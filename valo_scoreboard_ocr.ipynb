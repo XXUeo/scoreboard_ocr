{
 "cells": [
  {
   "cell_type": "code",
   "execution_count": 83,
   "id": "6a891bdf",
   "metadata": {},
   "outputs": [],
   "source": [
    "import os, io\n",
    "from google.cloud import vision\n",
    "import pandas as pd\n",
    "import cv2\n",
    "import matplotlib.pyplot as plt\n",
    "%matplotlib inline\n",
    "import matplotlib"
   ]
  },
  {
   "cell_type": "code",
   "execution_count": null,
   "id": "39ed7f0e",
   "metadata": {
    "scrolled": false
   },
   "outputs": [],
   "source": [
    "#add api file\n",
    "os.environ['GOOGLE_APPLICATION_CREDENTIALS'] = r'json api file name'\n",
    "\n",
    "\n",
    "#add path to folder\n",
    "FOLDER_PATH = r'path\\to\\folder'\n",
    "\n",
    "#Get list of all screenshots in directory\n",
    "FILE_LIST = os.listdir(FOLDER_PATH)\n",
    "#add path to file\n",
    "FILE_PATH = r'path\\to\\file'\n",
    "#Initialise DF outside of for loop\n",
    "raw_df = pd.DataFrame(columns=['locale','description'])\n",
    "raw_df"
   ]
  },
  {
   "cell_type": "code",
   "execution_count": null,
   "id": "c45acd91",
   "metadata": {},
   "outputs": [],
   "source": [
    "clean_df = pd.DataFrame(columns=['date',\n",
    "                                'game_type',\n",
    "                                'map',\n",
    "                                'duration',\n",
    "                                'result',\n",
    "                                'player_name',\n",
    "                                'avg_combat_score',\n",
    "                                'k',\n",
    "                                'd',\n",
    "                                'a',\n",
    "                                'econ_rating'])\n",
    "clean_df"
   ]
  },
  {
   "cell_type": "code",
   "execution_count": null,
   "id": "c4312db1",
   "metadata": {
    "scrolled": true
   },
   "outputs": [],
   "source": [
    "input_file = FILE_LIST[0]\n",
    "with io.open(os.path.join(FOLDER_PATH, input_file), 'rb') as image_file:\n",
    "        content = image_file.read()\n",
    "        \n",
    "image = vision.Image(content=content)\n",
    "response = client.text_detection(image=image)\n",
    "document = response.full_text_annotation\n",
    "#text = texts[0].description\n",
    "#print(text)\n"
   ]
  },
  {
   "cell_type": "code",
   "execution_count": null,
   "id": "2ac0b3a6",
   "metadata": {},
   "outputs": [],
   "source": [
    "output_text = ''\n",
    "for page in response.full_text_annotation.pages:\n",
    "    for block in page.blocks:\n",
    "        for paragraph in block.paragraphs:\n",
    "            for word in paragraph.words:\n",
    "                output_text += ''.join([\n",
    "                    symbol.text for symbol in word.symbols\n",
    "                ])\n",
    "            output_text += '\\n'\n",
    "print(output_text)"
   ]
  },
  {
   "cell_type": "code",
   "execution_count": null,
   "id": "6c8a19b9",
   "metadata": {},
   "outputs": [],
   "source": [
    "from enum import Enum\n",
    "\n",
    "class FeatureType(Enum):\n",
    "    PAGE = 1\n",
    "    BLOCK = 2\n",
    "    PARA = 3\n",
    "    WORD = 4\n",
    "    SYMBOL = 5\n",
    "\n",
    "def draw_boxes(input_file, bounds):\n",
    "    img = cv2.imread(input_file, cv2.IMREAD_COLOR)\n",
    "    for bound in bounds:\n",
    "      p1 = (bound.vertices[0].x, bound.vertices[0].y) # top left\n",
    "      p2 = (bound.vertices[1].x, bound.vertices[1].y) # top right\n",
    "      p3 = (bound.vertices[2].x, bound.vertices[2].y) # bottom right\n",
    "      p4 = (bound.vertices[3].x, bound.vertices[3].y) # bottom left\n",
    "      cv2.line(img, p1, p2, (0, 255, 0), thickness=1, lineType=cv2.LINE_AA)\n",
    "      cv2.line(img, p2, p3, (0, 255, 0), thickness=1, lineType=cv2.LINE_AA)\n",
    "      cv2.line(img, p3, p4, (0, 255, 0), thickness=1, lineType=cv2.LINE_AA)\n",
    "      cv2.line(img, p4, p1, (0, 255, 0), thickness=1, lineType=cv2.LINE_AA)\n",
    "    return img\n",
    "\n",
    "def get_document_bounds(response, feature):\n",
    "    document = response.full_text_annotation\n",
    "    bounds = []\n",
    "    for page in document.pages:\n",
    "        for block in page.blocks:\n",
    "            for paragraph in block.paragraphs:\n",
    "                for word in paragraph.words:\n",
    "                    for symbol in word.symbols:\n",
    "                        if (feature == FeatureType.SYMBOL):\n",
    "                          bounds.append(symbol.bounding_box)\n",
    "                    if (feature == FeatureType.WORD):\n",
    "                        bounds.append(word.bounding_box)\n",
    "                if (feature == FeatureType.PARA):\n",
    "                    bounds.append(paragraph.bounding_box)\n",
    "            if (feature == FeatureType.BLOCK):\n",
    "                bounds.append(block.bounding_box)\n",
    "    return bounds"
   ]
  },
  {
   "cell_type": "code",
   "execution_count": null,
   "id": "55881f20",
   "metadata": {
    "scrolled": false
   },
   "outputs": [],
   "source": [
    "\n",
    "bounds = get_document_bounds(response, FeatureType.BLOCK)\n",
    "img_block = draw_boxes(FILE_PATH, bounds)\n",
    "#print(img_block)\n",
    "\n",
    "\n",
    "bounds = get_document_bounds(response, FeatureType.PARA)\n",
    "img_para = draw_boxes(FILE_PATH, bounds)\n",
    "bounds = get_document_bounds(response, FeatureType.WORD)\n",
    "img_word = draw_boxes(FILE_PATH, bounds)\n",
    "bounds = get_document_bounds(response, FeatureType.SYMBOL)\n",
    "img_symbol = draw_boxes(FILE_PATH, bounds)\n",
    "#print(img_symbol)\n",
    "#plt.imshow(img_block)\n",
    "\n",
    "print(\"img_block\")\n",
    "plt.figure(figsize=[100,100]);plt.imshow(img_block[:,:,::-1]);plt.title(\"img_block\")\n",
    "print(\"img_para\")\n",
    "\n",
    "plt.figure(figsize=[100,100]);plt.imshow(img_para[:,:,::-1]);plt.title(\"img_para\")\n",
    "print(\"img_word\")\n",
    "\n",
    "plt.figure(figsize=[100,100]);plt.imshow(img_word[:,:,::-1]);plt.title(\"img_word\")\n",
    "print(\"img_symbol\")\n",
    "\n",
    "plt.figure(figsize=[100,100]);plt.imshow(img_symbol[:,:,::-1]);plt.title(\"img_symbol\")"
   ]
  },
  {
   "cell_type": "code",
   "execution_count": null,
   "id": "4e391c62",
   "metadata": {},
   "outputs": [],
   "source": []
  },
  {
   "cell_type": "code",
   "execution_count": null,
   "id": "c6be7032",
   "metadata": {},
   "outputs": [],
   "source": []
  }
 ],
 "metadata": {
  "kernelspec": {
   "display_name": "Python 3 (ipykernel)",
   "language": "python",
   "name": "python3"
  },
  "language_info": {
   "codemirror_mode": {
    "name": "ipython",
    "version": 3
   },
   "file_extension": ".py",
   "mimetype": "text/x-python",
   "name": "python",
   "nbconvert_exporter": "python",
   "pygments_lexer": "ipython3",
   "version": "3.9.12"
  }
 },
 "nbformat": 4,
 "nbformat_minor": 5
}
